{
 "cells": [
  {
   "cell_type": "code",
   "execution_count": 2,
   "id": "6c8d5846",
   "metadata": {},
   "outputs": [],
   "source": [
    "import pandas as pd \n",
    "import seaborn as sns"
   ]
  },
  {
   "cell_type": "code",
   "execution_count": 5,
   "id": "7322a993",
   "metadata": {},
   "outputs": [
    {
     "data": {
      "text/html": [
       "<div>\n",
       "<style scoped>\n",
       "    .dataframe tbody tr th:only-of-type {\n",
       "        vertical-align: middle;\n",
       "    }\n",
       "\n",
       "    .dataframe tbody tr th {\n",
       "        vertical-align: top;\n",
       "    }\n",
       "\n",
       "    .dataframe thead th {\n",
       "        text-align: right;\n",
       "    }\n",
       "</style>\n",
       "<table border=\"1\" class=\"dataframe\">\n",
       "  <thead>\n",
       "    <tr style=\"text-align: right;\">\n",
       "      <th></th>\n",
       "      <th>QUANTITY</th>\n",
       "      <th>SALES</th>\n",
       "      <th>DATE</th>\n",
       "      <th>PRODUCT</th>\n",
       "      <th>CATEGORY</th>\n",
       "      <th>PRICE</th>\n",
       "      <th>QUALITY</th>\n",
       "      <th>SALES_PERSON</th>\n",
       "      <th>SHOP</th>\n",
       "      <th>CITY</th>\n",
       "      <th>REGION</th>\n",
       "    </tr>\n",
       "  </thead>\n",
       "  <tbody>\n",
       "    <tr>\n",
       "      <th>0</th>\n",
       "      <td>1</td>\n",
       "      <td>7.45</td>\n",
       "      <td>2016-01-01</td>\n",
       "      <td>Trout Performance</td>\n",
       "      <td>Lake</td>\n",
       "      <td>7.45</td>\n",
       "      <td>NORMAL</td>\n",
       "      <td>Henry Jacobs</td>\n",
       "      <td>Anglers United</td>\n",
       "      <td>Los Angeles</td>\n",
       "      <td>West</td>\n",
       "    </tr>\n",
       "    <tr>\n",
       "      <th>1</th>\n",
       "      <td>1</td>\n",
       "      <td>5.65</td>\n",
       "      <td>2016-01-01</td>\n",
       "      <td>Minnow Glitter</td>\n",
       "      <td>River</td>\n",
       "      <td>5.65</td>\n",
       "      <td>TOP</td>\n",
       "      <td>Nora Pollack</td>\n",
       "      <td>Happy Fisherman</td>\n",
       "      <td>Chicago</td>\n",
       "      <td>North</td>\n",
       "    </tr>\n",
       "    <tr>\n",
       "      <th>2</th>\n",
       "      <td>2</td>\n",
       "      <td>13.98</td>\n",
       "      <td>2016-01-01</td>\n",
       "      <td>Pike Magic</td>\n",
       "      <td>Lake</td>\n",
       "      <td>6.99</td>\n",
       "      <td>TOP</td>\n",
       "      <td>Tyler Lance</td>\n",
       "      <td>Fast Lures</td>\n",
       "      <td>New York</td>\n",
       "      <td>North</td>\n",
       "    </tr>\n",
       "    <tr>\n",
       "      <th>3</th>\n",
       "      <td>2</td>\n",
       "      <td>14.90</td>\n",
       "      <td>2016-01-01</td>\n",
       "      <td>Charles Lake Secret</td>\n",
       "      <td>Lake</td>\n",
       "      <td>7.45</td>\n",
       "      <td>NORMAL</td>\n",
       "      <td>Richard Smith</td>\n",
       "      <td>Lucky Lures</td>\n",
       "      <td>Seattle</td>\n",
       "      <td>West</td>\n",
       "    </tr>\n",
       "    <tr>\n",
       "      <th>4</th>\n",
       "      <td>3</td>\n",
       "      <td>22.35</td>\n",
       "      <td>2016-01-01</td>\n",
       "      <td>Charles Lake Secret</td>\n",
       "      <td>Lake</td>\n",
       "      <td>7.45</td>\n",
       "      <td>NORMAL</td>\n",
       "      <td>Henrik Griffin</td>\n",
       "      <td>Anglers United</td>\n",
       "      <td>Los Angeles</td>\n",
       "      <td>West</td>\n",
       "    </tr>\n",
       "  </tbody>\n",
       "</table>\n",
       "</div>"
      ],
      "text/plain": [
       "   QUANTITY  SALES       DATE              PRODUCT CATEGORY  PRICE QUALITY  \\\n",
       "0         1   7.45 2016-01-01    Trout Performance     Lake   7.45  NORMAL   \n",
       "1         1   5.65 2016-01-01       Minnow Glitter    River   5.65     TOP   \n",
       "2         2  13.98 2016-01-01           Pike Magic     Lake   6.99     TOP   \n",
       "3         2  14.90 2016-01-01  Charles Lake Secret     Lake   7.45  NORMAL   \n",
       "4         3  22.35 2016-01-01  Charles Lake Secret     Lake   7.45  NORMAL   \n",
       "\n",
       "     SALES_PERSON             SHOP         CITY REGION  \n",
       "0    Henry Jacobs   Anglers United  Los Angeles   West  \n",
       "1    Nora Pollack  Happy Fisherman      Chicago  North  \n",
       "2     Tyler Lance       Fast Lures     New York  North  \n",
       "3   Richard Smith      Lucky Lures      Seattle   West  \n",
       "4  Henrik Griffin   Anglers United  Los Angeles   West  "
      ]
     },
     "execution_count": 5,
     "metadata": {},
     "output_type": "execute_result"
    }
   ],
   "source": [
    "df = pd.read_excel('assets/lures.xlsx')\n",
    "df.head()"
   ]
  },
  {
   "cell_type": "code",
   "execution_count": 8,
   "id": "3903c2f6",
   "metadata": {},
   "outputs": [
    {
     "data": {
      "text/plain": [
       "<AxesSubplot:xlabel='SALES', ylabel='PRODUCT'>"
      ]
     },
     "execution_count": 8,
     "metadata": {},
     "output_type": "execute_result"
    },
    {
     "data": {
      "image/png": "[encoded data removed]",
      "text/plain": [
       "<Figure size 432x288 with 1 Axes>"
      ]
     },
     "metadata": {
      "needs_background": "light"
     },
     "output_type": "display_data"
    }
   ],
   "source": [
    "sns.scatterplot(x=df['SALES'],\n",
    "                y=df['PRODUCT'])"
   ]
  },
  {
   "cell_type": "code",
   "execution_count": null,
   "id": "7d701b2e",
   "metadata": {},
   "outputs": [],
   "source": []
  },
  {
   "cell_type": "code",
   "execution_count": null,
   "id": "e27d49d7",
   "metadata": {},
   "outputs": [],
   "source": []
  }
 ],
 "metadata": {
  "kernelspec": {
   "display_name": "Python 3 (ipykernel)",
   "language": "python",
   "name": "python3"
  },
  "language_info": {
   "codemirror_mode": {
    "name": "ipython",
    "version": 3
   },
   "file_extension": ".py",
   "mimetype": "text/x-python",
   "name": "python",
   "nbconvert_exporter": "python",
   "pygments_lexer": "ipython3",
   "version": "3.9.7"
  }
 },
 "nbformat": 4,
 "nbformat_minor": 5
}
