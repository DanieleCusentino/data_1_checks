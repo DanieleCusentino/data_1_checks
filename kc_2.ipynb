import pandas as pd
import seaborn as sns
pd.read_excel('/assets/LURES.xlsx')
pd.head()