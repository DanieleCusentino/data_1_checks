{
 "cells": [
  {
   "cell_type": "markdown",
   "metadata": {
    "id": "OnwbaobgJQCa"
   },
   "source": [
    "# Men's World Record Mile Times"
   ]
  },
  {
   "cell_type": "markdown",
   "metadata": {
    "id": "WJNd17mxJQCk"
   },
   "source": [
    "![a runner](https://www.nnrunningteam.com/files/images/485-458-1083-slide.jpg?1570881944)"
   ]
  },
  {
   "cell_type": "markdown",
   "metadata": {
    "id": "9qiSlfj0lW87"
   },
   "source": [
    "## Goals for this example project:\n",
    "\n",
    "1. Use documentation for some small challenges.\n",
    "\n",
    "2. Practice data cleaning.\n",
    "\n",
    "3. Practice aggregation. \n",
    "\n",
    "4. Practice simple visualization.\n",
    "\n",
    "[source - wikipedia](https://en.wikipedia.org/wiki/Mile_run_world_record_progression#:~:text=World%20Athletics%20is%20the%20official,the%20IAAF%20for%20record%20purposes)"
   ]
  },
  {
   "cell_type": "code",
   "execution_count": 261,
   "metadata": {
    "id": "OYkwKM4AmM0O"
   },
   "outputs": [],
   "source": [
    "import datetime as dt\n",
    "import json\n",
    "import time\n",
    "import matplotlib.pyplot as plt\n",
    "import pandas as pd\n"
   ]
  },
  {
   "cell_type": "code",
   "execution_count": 262,
   "metadata": {
    "id": "nHWVw6FPrxuD",
    "scrolled": true
   },
   "outputs": [],
   "source": [
    "data = pd.read_csv(\"https://raw.githubusercontent.com/josephplpriest/mens_WR_mile_run/master/mens_WR_mile_times.csv\")\n"
   ]
  },
  {
   "cell_type": "code",
   "execution_count": 263,
   "metadata": {},
   "outputs": [
    {
     "data": {
      "text/plain": [
       "Time           object\n",
       "Auto           object\n",
       "Athlete        object\n",
       "Nationality    object\n",
       "Date           object\n",
       "Venue          object\n",
       "dtype: object"
      ]
     },
     "execution_count": 263,
     "metadata": {},
     "output_type": "execute_result"
    }
   ],
   "source": [
    "data.dtypes"
   ]
  },
  {
   "cell_type": "code",
   "execution_count": 264,
   "metadata": {
    "colab": {
     "base_uri": "https://localhost:8080/"
    },
    "id": "RgYPlWgPPE91",
    "outputId": "ed9a8a74-6aa9-4a27-8c18-761fff6d267f"
   },
   "outputs": [],
   "source": [
    "data['Time'] = data['Time'].str.strip('*').astype(object)\n",
    "data['Date'] = data['Date'].str.strip('[5]').astype(object)\n"
   ]
  },
  {
   "cell_type": "code",
   "execution_count": 265,
   "metadata": {
    "colab": {
     "base_uri": "https://localhost:8080/"
    },
    "id": "7vDLVRaOYILc",
    "outputId": "8ea304ae-9383-4ce2-e2c4-3435edcf301a"
   },
   "outputs": [],
   "source": [
    "del data['Auto']"
   ]
  },
  {
   "cell_type": "code",
   "execution_count": 266,
   "metadata": {
    "colab": {
     "base_uri": "https://localhost:8080/",
     "height": 1000
    },
    "id": "w2T1kjiTQQK7",
    "outputId": "486c7e6c-277b-4bdb-ba05-cacd53c36033"
   },
   "outputs": [
    {
     "name": "stdout",
     "output_type": "stream",
     "text": [
      "       Time             Athlete     Nationality              Date  \\\n",
      "0    4:14.4     John Paul Jones   United States       31 May 1913   \n",
      "1    4:12.6        Norman Taber   United States       16 July 191   \n",
      "2    4:10.4         Paavo Nurmi         Finland    23 August 1923   \n",
      "3    4:09.2    Jules Ladoumègue          France    4 October 1931   \n",
      "4    4:07.6       Jack Lovelock     New Zealand      15 July 1933   \n",
      "5    4:06.8    Glenn Cunningham   United States      16 June 1934   \n",
      "6    4:06.4    Sydney Wooderson  United Kingdom    28 August 1937   \n",
      "7    4:06.2         Gunder Hägg          Sweden       1 July 1942   \n",
      "8    4:06.2      Arne Andersson          Sweden      10 July 1942   \n",
      "9    4:04.6         Gunder Hägg          Sweden  4 September 1942   \n",
      "10   4:02.6      Arne Andersson          Sweden       1 July 1943   \n",
      "11   4:01.6      Arne Andersson          Sweden      18 July 1944   \n",
      "12   4:01.4         Gunder Hägg          Sweden       17 July 194   \n",
      "13   3:59.4     Roger Bannister  United Kingdom        6 May 1954   \n",
      "14   3:58.0          John Landy       Australia      21 June 1954   \n",
      "15   3:57.2      Derek Ibbotson  United Kingdom      19 July 1957   \n",
      "16   3:54.5        Herb Elliott       Australia     6 August 1958   \n",
      "17   3:54.4         Peter Snell     New Zealand   27 January 1962   \n",
      "18   3:54.1         Peter Snell     New Zealand  17 November 1964   \n",
      "19   3:53.6         Michel Jazy          France        9 June 196   \n",
      "20   3:51.3            Jim Ryun   United States      17 July 1966   \n",
      "21   3:51.1            Jim Ryun   United States      23 June 1967   \n",
      "22   3:51.0        Filbert Bayi        Tanzania        17 May 197   \n",
      "23   3:49.4         John Walker     New Zealand     12 August 197   \n",
      "24   3:49.0       Sebastian Coe  United Kingdom      17 July 1979   \n",
      "25   3:48.8         Steve Ovett  United Kingdom       1 July 1980   \n",
      "26  3:48.53       Sebastian Coe  United Kingdom    19 August 1981   \n",
      "27  3:48.40         Steve Ovett  United Kingdom    26 August 1981   \n",
      "28  3:47.33       Sebastian Coe  United Kingdom    28 August 1981   \n",
      "29  3:46.32          Steve Cram  United Kingdom       27 July 198   \n",
      "30  3:44.39  Noureddine Morceli         Algeria    September 1993   \n",
      "31  3:43.13  Hicham El Guerrouj         Morocco       7 July 1999   \n",
      "\n",
      "                Venue  \n",
      "0      Allston, Mass.  \n",
      "1      Allston, Mass.  \n",
      "2           Stockholm  \n",
      "3               Paris  \n",
      "4     Princeton, N.J.  \n",
      "5     Princeton, N.J.  \n",
      "6        Motspur Park  \n",
      "7          Gothenburg  \n",
      "8           Stockholm  \n",
      "9           Stockholm  \n",
      "10         Gothenburg  \n",
      "11              Malmö  \n",
      "12              Malmö  \n",
      "13             Oxford  \n",
      "14              Turku  \n",
      "15             London  \n",
      "16             Dublin  \n",
      "17           Wanganui  \n",
      "18           Auckland  \n",
      "19             Rennes  \n",
      "20     Berkeley, Cal.  \n",
      "21  Bakersfield, Cal.  \n",
      "22           Kingston  \n",
      "23         Gothenburg  \n",
      "24               Oslo  \n",
      "25               Oslo  \n",
      "26             Zürich  \n",
      "27            Koblenz  \n",
      "28           Brussels  \n",
      "29               Oslo  \n",
      "30              Rieti  \n",
      "31               Rome  \n"
     ]
    }
   ],
   "source": [
    "print(data)"
   ]
  },
  {
   "cell_type": "code",
   "execution_count": 267,
   "metadata": {
    "colab": {
     "base_uri": "https://localhost:8080/"
    },
    "id": "FazUMQGZSsJj",
    "outputId": "a2ea60da-1e4f-41e5-fcb1-edc08d883fe5"
   },
   "outputs": [
    {
     "name": "stdout",
     "output_type": "stream",
     "text": [
      "['4:14.4' '4:12.6' '4:10.4' '4:09.2' '4:07.6' '4:06.8' '4:06.4' '4:06.2'\n",
      " '4:04.6' '4:02.6' '4:01.6' '4:01.4' '3:59.4' '3:58.0' '3:57.2' '3:54.5'\n",
      " '3:54.4' '3:54.1' '3:53.6' '3:51.3' '3:51.1' '3:51.0' '3:49.4' '3:49.0'\n",
      " '3:48.8' '3:48.53' '3:48.40' '3:47.33' '3:46.32' '3:44.39' '3:43.13']\n",
      "['John Paul Jones' 'Norman Taber' 'Paavo Nurmi' 'Jules Ladoumègue'\n",
      " 'Jack Lovelock' 'Glenn Cunningham' 'Sydney Wooderson' 'Gunder Hägg'\n",
      " 'Arne Andersson' 'Roger Bannister' 'John Landy' 'Derek Ibbotson'\n",
      " 'Herb Elliott' 'Peter Snell' 'Michel Jazy' 'Jim Ryun' 'Filbert Bayi'\n",
      " 'John Walker' 'Sebastian Coe' 'Steve Ovett' 'Steve Cram'\n",
      " 'Noureddine Morceli' 'Hicham El Guerrouj']\n",
      "['United States' 'Finland' 'France' 'New Zealand' 'United Kingdom'\n",
      " 'Sweden' 'Australia' 'Tanzania' 'Algeria' 'Morocco']\n",
      "['31 May 1913' '16 July 191' '23 August 1923' '4 October 1931'\n",
      " '15 July 1933' '16 June 1934' '28 August 1937' '1 July 1942'\n",
      " '10 July 1942' '4 September 1942' '1 July 1943' '18 July 1944'\n",
      " '17 July 194' '6 May 1954' '21 June 1954' '19 July 1957' '6 August 1958'\n",
      " '27 January 1962' '17 November 1964' '9 June 196' '17 July 1966'\n",
      " '23 June 1967' '17 May 197' '12 August 197' '17 July 1979' '1 July 1980'\n",
      " '19 August 1981' '26 August 1981' '28 August 1981' '27 July 198'\n",
      " ' September 1993' '7 July 1999']\n",
      "['Allston, Mass.' 'Stockholm' 'Paris' 'Princeton, N.J.' 'Motspur Park'\n",
      " 'Gothenburg' 'Malmö' 'Oxford' 'Turku' 'London' 'Dublin' 'Wanganui'\n",
      " 'Auckland' 'Rennes' 'Berkeley, Cal.' 'Bakersfield, Cal.' 'Kingston'\n",
      " 'Oslo' 'Zürich' 'Koblenz' 'Brussels' 'Rieti' 'Rome']\n"
     ]
    }
   ],
   "source": [
    "for col in data:\n",
    "    print(data[col].unique())"
   ]
  },
  {
   "cell_type": "code",
   "execution_count": 268,
   "metadata": {
    "colab": {
     "base_uri": "https://localhost:8080/"
    },
    "id": "mCpALUsWSzkt",
    "outputId": "08f5f79a-4136-48ef-805d-bb9fe533bc1e"
   },
   "outputs": [
    {
     "data": {
      "text/plain": [
       "Sebastian Coe         3\n",
       "Gunder Hägg           3\n",
       "Arne Andersson        3\n",
       "Peter Snell           2\n",
       "Steve Ovett           2\n",
       "Jim Ryun              2\n",
       "John Paul Jones       1\n",
       "Noureddine Morceli    1\n",
       "Steve Cram            1\n",
       "John Walker           1\n",
       "Filbert Bayi          1\n",
       "Michel Jazy           1\n",
       "Derek Ibbotson        1\n",
       "Herb Elliott          1\n",
       "Norman Taber          1\n",
       "John Landy            1\n",
       "Roger Bannister       1\n",
       "Sydney Wooderson      1\n",
       "Glenn Cunningham      1\n",
       "Jack Lovelock         1\n",
       "Jules Ladoumègue      1\n",
       "Paavo Nurmi           1\n",
       "Hicham El Guerrouj    1\n",
       "Name: Athlete, dtype: int64"
      ]
     },
     "execution_count": 268,
     "metadata": {},
     "output_type": "execute_result"
    }
   ],
   "source": [
    "data['Athlete'].value_counts()"
   ]
  },
  {
   "cell_type": "code",
   "execution_count": 269,
   "metadata": {
    "colab": {
     "base_uri": "https://localhost:8080/"
    },
    "id": "10AfZ71eXH9B",
    "outputId": "a9e0438e-a61a-4c97-b9d9-60c3407e53c2"
   },
   "outputs": [],
   "source": [
    "data['Time']=data['Time'].apply(lambda x: float(x.split(':')[0])*60+float(x.split(':')[1]))"
   ]
  },
  {
   "cell_type": "code",
   "execution_count": 280,
   "metadata": {},
   "outputs": [],
   "source": [
    "data['Date'] = pd.to_datetime(data['Date'], errors=\"coerce\")"
   ]
  },
  {
   "cell_type": "code",
   "execution_count": 282,
   "metadata": {},
   "outputs": [
    {
     "data": {
      "text/plain": [
       "Time                  float64\n",
       "Athlete                object\n",
       "Nationality            object\n",
       "Date           datetime64[ns]\n",
       "Venue                  object\n",
       "dtype: object"
      ]
     },
     "execution_count": 282,
     "metadata": {},
     "output_type": "execute_result"
    }
   ],
   "source": [
    "data.dtypes"
   ]
  },
  {
   "cell_type": "code",
   "execution_count": 286,
   "metadata": {},
   "outputs": [
    {
     "data": {
      "text/html": [
       "<div>\n",
       "<style scoped>\n",
       "    .dataframe tbody tr th:only-of-type {\n",
       "        vertical-align: middle;\n",
       "    }\n",
       "\n",
       "    .dataframe tbody tr th {\n",
       "        vertical-align: top;\n",
       "    }\n",
       "\n",
       "    .dataframe thead tr th {\n",
       "        text-align: left;\n",
       "    }\n",
       "\n",
       "    .dataframe thead tr:last-of-type th {\n",
       "        text-align: right;\n",
       "    }\n",
       "</style>\n",
       "<table border=\"1\" class=\"dataframe\">\n",
       "  <thead>\n",
       "    <tr>\n",
       "      <th></th>\n",
       "      <th>Time</th>\n",
       "      <th>Athlete</th>\n",
       "      <th>Date</th>\n",
       "      <th>Venue</th>\n",
       "    </tr>\n",
       "    <tr>\n",
       "      <th></th>\n",
       "      <th>nunique</th>\n",
       "      <th>nunique</th>\n",
       "      <th>nunique</th>\n",
       "      <th>nunique</th>\n",
       "    </tr>\n",
       "    <tr>\n",
       "      <th>Nationality</th>\n",
       "      <th></th>\n",
       "      <th></th>\n",
       "      <th></th>\n",
       "      <th></th>\n",
       "    </tr>\n",
       "  </thead>\n",
       "  <tbody>\n",
       "    <tr>\n",
       "      <th>Algeria</th>\n",
       "      <td>1</td>\n",
       "      <td>1</td>\n",
       "      <td>1</td>\n",
       "      <td>1</td>\n",
       "    </tr>\n",
       "    <tr>\n",
       "      <th>Australia</th>\n",
       "      <td>2</td>\n",
       "      <td>2</td>\n",
       "      <td>2</td>\n",
       "      <td>2</td>\n",
       "    </tr>\n",
       "    <tr>\n",
       "      <th>Finland</th>\n",
       "      <td>1</td>\n",
       "      <td>1</td>\n",
       "      <td>1</td>\n",
       "      <td>1</td>\n",
       "    </tr>\n",
       "    <tr>\n",
       "      <th>France</th>\n",
       "      <td>2</td>\n",
       "      <td>2</td>\n",
       "      <td>1</td>\n",
       "      <td>2</td>\n",
       "    </tr>\n",
       "    <tr>\n",
       "      <th>Morocco</th>\n",
       "      <td>1</td>\n",
       "      <td>1</td>\n",
       "      <td>1</td>\n",
       "      <td>1</td>\n",
       "    </tr>\n",
       "    <tr>\n",
       "      <th>New Zealand</th>\n",
       "      <td>4</td>\n",
       "      <td>3</td>\n",
       "      <td>3</td>\n",
       "      <td>4</td>\n",
       "    </tr>\n",
       "    <tr>\n",
       "      <th>Sweden</th>\n",
       "      <td>5</td>\n",
       "      <td>2</td>\n",
       "      <td>5</td>\n",
       "      <td>3</td>\n",
       "    </tr>\n",
       "    <tr>\n",
       "      <th>Tanzania</th>\n",
       "      <td>1</td>\n",
       "      <td>1</td>\n",
       "      <td>0</td>\n",
       "      <td>1</td>\n",
       "    </tr>\n",
       "    <tr>\n",
       "      <th>United Kingdom</th>\n",
       "      <td>9</td>\n",
       "      <td>6</td>\n",
       "      <td>8</td>\n",
       "      <td>7</td>\n",
       "    </tr>\n",
       "    <tr>\n",
       "      <th>United States</th>\n",
       "      <td>5</td>\n",
       "      <td>4</td>\n",
       "      <td>4</td>\n",
       "      <td>4</td>\n",
       "    </tr>\n",
       "  </tbody>\n",
       "</table>\n",
       "</div>"
      ],
      "text/plain": [
       "                  Time Athlete    Date   Venue\n",
       "               nunique nunique nunique nunique\n",
       "Nationality                                   \n",
       "Algeria              1       1       1       1\n",
       "Australia            2       2       2       2\n",
       "Finland              1       1       1       1\n",
       "France               2       2       1       2\n",
       "Morocco              1       1       1       1\n",
       "New Zealand          4       3       3       4\n",
       "Sweden               5       2       5       3\n",
       "Tanzania             1       1       0       1\n",
       "United Kingdom       9       6       8       7\n",
       "United States        5       4       4       4"
      ]
     },
     "execution_count": 286,
     "metadata": {},
     "output_type": "execute_result"
    }
   ],
   "source": [
    "data.groupby(['Nationality']).agg(['nunique'])"
   ]
  },
  {
   "cell_type": "code",
   "execution_count": 313,
   "metadata": {},
   "outputs": [
    {
     "data": {
      "image/png": "[encoded data removed]",
      "text/plain": [
       "<Figure size 504x252 with 1 Axes>"
      ]
     },
     "metadata": {
      "needs_background": "light"
     },
     "output_type": "display_data"
    }
   ],
   "source": [
    "plt.plot(data['Date'], data['Time'], color='r', label='Historical Change in WR Times', marker='o')\n",
    "plt.xlabel('Year')\n",
    "plt.ylabel('Time (in seconds)')\n",
    "plt.title('Historical Change in WR Times')\n",
    "plt.legend()\n",
    "plt.show()\n"
   ]
  },
  {
   "cell_type": "markdown",
   "metadata": {
    "id": "WFiT-zx2JQDU"
   },
   "source": [
    "## Tasks:"
   ]
  },
  {
   "cell_type": "code",
   "execution_count": null,
   "metadata": {},
   "outputs": [],
   "source": []
  },
  {
   "cell_type": "markdown",
   "metadata": {
    "id": "PgMOXXiYuVa5"
   },
   "source": [
    "### [Easy: Data Cleaning](#easy)\n",
    "\n",
    "[1.1](#1.1)\n",
    "* Clean the asterisks from the time column?\n",
    "\n",
    "*hint - look for pandas string methods to replace a character or characters*\n",
    "\n",
    "[1.2](#1.2)\n",
    "* Remove meaningless columns? \n",
    "\n",
    "*hint - do we have a column with lots of missing values, how to drop a column in pandas*\n",
    "\n",
    "[1.3](#1.3)\n",
    "* Clean the date column of \"[5]\"\n",
    "\n",
    "*pandas string methods to replace characters*\n",
    "\n",
    "\n"
   ]
  },
  {
   "cell_type": "markdown",
   "metadata": {
    "id": "GNwczzNQJQDe"
   },
   "source": [
    "### [Medium: Calculation and Aggregation](#medium)\n",
    "\n",
    "[2.1](#2.1) \n",
    "* How many *unique* WR holders have there been? Who holds the most records?\n",
    "\n",
    "*hint - pandas unique items in a column, value counts*\n",
    "\n",
    "\n",
    "[2.2](#2.2) \n",
    "* Convert the time column into total seconds.\n",
    "\n",
    "*hint - split a string, how to convert minutes to seconds and add*\n",
    "\n",
    "\n"
   ]
  },
  {
   "cell_type": "markdown",
   "metadata": {
    "id": "-YZg1FMNJQDh"
   },
   "source": [
    "### [Hard:](#hard)\n",
    "\n",
    "[3.1](#3.1) \n",
    "* Convert the date column to the datetime type.\n",
    "\n",
    "*hint - pandas datetime method*\n",
    "\n",
    "\n",
    "[3.2](#3.2) \n",
    "* What country has the most DIFFERENT record holders?\n",
    "\n",
    "*hint - pandas group by, unique*\n",
    "\n"
   ]
  },
  {
   "cell_type": "markdown",
   "metadata": {
    "id": "W06D3AByJQDk"
   },
   "source": [
    "## [Extra credit:](#ec)\n",
    "\n",
    "[4.1](#4.1)\n",
    "* Visualize a line plot of Date (on the x axis) and Time (on the y axis) to show the historical change in WR times.\n",
    "\n",
    "*hint - pandas line plot*"
   ]
  },
  {
   "cell_type": "markdown",
   "metadata": {
    "id": "5SsHflyaJQDm"
   },
   "source": [
    "#### 1.1 Cleaning the time column <a name=\"1.1\"><a/>"
   ]
  },
  {
   "cell_type": "code",
   "execution_count": 270,
   "metadata": {
    "id": "yKiR-B8cJQDv"
   },
   "outputs": [],
   "source": [
    "# data['Time'] = data['Time'].str.strip('*').astype(object)"
   ]
  },
  {
   "cell_type": "markdown",
   "metadata": {
    "id": "zN0YKRKNJQDz"
   },
   "source": [
    "#### 1.2 Drop the \"Auto\" column <a name=\"1.2\"><a/>"
   ]
  },
  {
   "cell_type": "code",
   "execution_count": 271,
   "metadata": {
    "id": "RxAkIhSjJQD0"
   },
   "outputs": [],
   "source": [
    "# del data['Auto']"
   ]
  },
  {
   "cell_type": "markdown",
   "metadata": {
    "id": "TFNk4MwzJQD1"
   },
   "source": [
    "#### 1.3 Clean the date column <a name=\"1.3\"><a/>"
   ]
  },
  {
   "cell_type": "code",
   "execution_count": 272,
   "metadata": {
    "id": "0BmiantWJQD1"
   },
   "outputs": [],
   "source": [
    "# data['Date'] = data['Date'].str.strip('[5]').astype(object)\n"
   ]
  },
  {
   "cell_type": "markdown",
   "metadata": {
    "id": "_aLsXJNiJQEB"
   },
   "source": [
    "### Medium: <a name=\"medium\"><a/>"
   ]
  },
  {
   "cell_type": "markdown",
   "metadata": {
    "id": "lf8Chc0TJQEB"
   },
   "source": [
    "#### 2.1 Looking at record holders (unique and multiple-record holders) <a name=\"2.1\"><a/>"
   ]
  },
  {
   "cell_type": "code",
   "execution_count": 273,
   "metadata": {
    "id": "DGbJafYdJQEB"
   },
   "outputs": [],
   "source": [
    "# for col in data:\n",
    "    # print(data[col].unique())\n",
    "    \n",
    "    # 23 WORLD RECORD HOLDERS"
   ]
  },
  {
   "cell_type": "code",
   "execution_count": 274,
   "metadata": {
    "id": "n2qHXGLGJQEH"
   },
   "outputs": [],
   "source": [
    "# data['Athlete'].value_counts()\n",
    "\n",
    "# It's a tie between Sebastian Coe, Gunder Hägg and Arne Andersson with 3 each"
   ]
  },
  {
   "cell_type": "markdown",
   "metadata": {
    "id": "6_hpgrLNJQEH"
   },
   "source": [
    "#### 2.2 Convert the \"Time\" column to seconds <a name=\"2.2\"><a/>"
   ]
  },
  {
   "cell_type": "code",
   "execution_count": 275,
   "metadata": {
    "id": "HVScCt6UJQEI"
   },
   "outputs": [],
   "source": [
    "# data['Time']=data['Time'].apply(lambda x: float(x.split(':')[0])*60+float(x.split(':')[1]))\n"
   ]
  },
  {
   "cell_type": "markdown",
   "metadata": {
    "id": "GOZDS9JLJQEQ"
   },
   "source": [
    "### Hard: <a name=\"hard\"><a/>"
   ]
  },
  {
   "cell_type": "markdown",
   "metadata": {
    "id": "pa1Rpj_BJQES"
   },
   "source": [
    "#### 3.1 Convert the \"Date\" column to datetime type<a name=\"3.1\"><a/>"
   ]
  },
  {
   "cell_type": "code",
   "execution_count": 276,
   "metadata": {
    "id": "6_wdjreMJQET"
   },
   "outputs": [],
   "source": [
    "# data['Date'] = pd.to_datetime(data['Date'], errors=\"coerce\")"
   ]
  },
  {
   "cell_type": "markdown",
   "metadata": {
    "id": "pBvY8uAbJQEU"
   },
   "source": [
    "#### 3.2 Rank countries by number (distinct) of record holders <a name=\"3.2\"><a/>"
   ]
  },
  {
   "cell_type": "code",
   "execution_count": 277,
   "metadata": {
    "id": "KAGZkRyZJQEU"
   },
   "outputs": [],
   "source": [
    "# # data.groupby(['Nationality']).agg(['nunique'])\n",
    "# United Kingdom??"
   ]
  },
  {
   "cell_type": "markdown",
   "metadata": {
    "id": "-UgwATW4JQEV"
   },
   "source": [
    "### Extra Credit: <a name = \"ec\"><a/>"
   ]
  },
  {
   "cell_type": "markdown",
   "metadata": {
    "id": "oq3p_QxJJQEW"
   },
   "source": [
    "#### 4.1 Plot the dates vs times to see how the record has changed through history. <a name=\"4.1\"><a/>"
   ]
  },
  {
   "cell_type": "code",
   "execution_count": 278,
   "metadata": {
    "id": "fod5DNBKJQEW"
   },
   "outputs": [],
   "source": [
    "# plt.plot(data['Date'], data['Time'], color='r', label='Historical Change in WR Times', marker='o')\n",
    "# plt.xlabel('Year')\n",
    "# plt.ylabel('Time (in seconds)')\n",
    "# plt.title('Historical Change in WR Times')\n",
    "# plt.legend()\n",
    "# plt.show()"
   ]
  }
 ],
 "metadata": {
  "colab": {
   "collapsed_sections": [],
   "name": "Copy of mens_mile_WR_example_project.ipynb",
   "provenance": []
  },
  "kernelspec": {
   "display_name": "Python 3 (ipykernel)",
   "language": "python",
   "name": "python3"
  },
  "language_info": {
   "codemirror_mode": {
    "name": "ipython",
    "version": 3
   },
   "file_extension": ".py",
   "mimetype": "text/x-python",
   "name": "python",
   "nbconvert_exporter": "python",
   "pygments_lexer": "ipython3",
   "version": "3.9.7"
  }
 },
 "nbformat": 4,
 "nbformat_minor": 1
}
